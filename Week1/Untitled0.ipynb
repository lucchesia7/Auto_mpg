{
  "nbformat": 4,
  "nbformat_minor": 0,
  "metadata": {
    "colab": {
      "name": "Untitled0.ipynb",
      "provenance": [],
      "authorship_tag": "ABX9TyN7z/onMYMXK81XhsBS6sb8",
      "include_colab_link": true
    },
    "kernelspec": {
      "name": "python3",
      "display_name": "Python 3"
    },
    "language_info": {
      "name": "python"
    }
  },
  "cells": [
    {
      "cell_type": "markdown",
      "metadata": {
        "id": "view-in-github",
        "colab_type": "text"
      },
      "source": [
        "<a href=\"https://colab.research.google.com/github/lucchesia7/Auto_mpg/blob/master/Week1/Untitled0.ipynb\" target=\"_parent\"><img src=\"https://colab.research.google.com/assets/colab-badge.svg\" alt=\"Open In Colab\"/></a>"
      ]
    },
    {
      "cell_type": "markdown",
      "source": [
        "# GitHub Setup\n",
        "\n",
        "* How to download\n",
        "* How to set up repo\n",
        "* How to make file folders\n",
        "* How to make a ReadMe(Generator)\n",
        "* How to set up a repo via GitHub Desktop or directly in GitHub\n",
        "* How to either download a notebook or publish it directly to GitHub repo"
      ],
      "metadata": {
        "id": "y5_gs_uP4xz1"
      }
    }
  ]
}